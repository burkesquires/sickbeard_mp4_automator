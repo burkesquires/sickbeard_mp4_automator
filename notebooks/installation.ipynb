{
 "cells": [
  {
   "cell_type": "markdown",
   "metadata": {},
   "source": [
    "# MP4 Conversion/Tagging Automation Script\n",
    "\n",
    "## Installation"
   ]
  },
  {
   "cell_type": "markdown",
   "metadata": {},
   "source": [
    "---"
   ]
  },
  {
   "cell_type": "markdown",
   "metadata": {},
   "source": [
    "__This project will automatically__:\n",
    "- converts media files downloaded by various programs to mp4 files, and \n",
    "- tags them with the appropriate metadata from theTVDB or TMDB.\n",
    "\n",
    "Works on Windows, OSX, and Linux\n",
    "\n",
    "Media Managers Supported:\n",
    "- Sickbeard\n",
    "- SickRage\n",
    "- CouchPotato\n",
    "- Sonarr\n",
    "- Radarr\n",
    "\n",
    "Downloaders Supported:\n",
    "- SABNZBD\n",
    "- NZBGet\n",
    "- uTorrent\n",
    "- Deluge Daemon\n",
    "\n",
    "__Requirements__\n",
    "\n",
    "- Python 2.7\n",
    "- Python 3 beta support has arrived. Feel free to begin testing and report bugs\n",
    "- FFMPEG and FFPROBE binaries\n",
    "- Python setup_tools\n",
    "- See PIP packages for additional requirements\n",
    "\n",
    "__Default Settings__\n",
    "\n",
    "1. Video - H264\n",
    "2. Audio - AAC 2.0 with additional AC3 track when source has >2 channels (ex 5.1)\n",
    "3. Subtitles - mov_text"
   ]
  },
  {
   "cell_type": "markdown",
   "metadata": {},
   "source": [
    "## Python installation (Via Anaconda Python Distribution)\n",
    "\n",
    "Begin by installing the Anaconda Python Distribution (for Python 3) [here](https://www.anaconda.com/download/)."
   ]
  },
  {
   "cell_type": "markdown",
   "metadata": {},
   "source": [
    "__The following python required python packages are installed automatically as part of the Anaconda distrubution:__\n",
    "\n",
    "- `setuptools` - https://pypi.python.org/pypi/setuptools#installation-instructions\n",
    "- `requests` - Run `pip install requests`\n",
    "\n",
    "\n",
    "\n",
    "\n",
    "### Prerequisite Python Package Installation Instructions\n",
    "\n",
    "Note: Windows users should enter commands in Powershell - using '<' doesn't work in cmd\n",
    "\n",
    "- `VC for Python 2.7` (Windows Users Only) - Download and install - http://www.microsoft.com/en-us/download/details.aspx?id=44266"
   ]
  },
  {
   "cell_type": "code",
   "execution_count": 1,
   "metadata": {},
   "outputs": [
    {
     "name": "stdout",
     "output_type": "stream",
     "text": [
      "Requirement already satisfied: requests[security] in /Users/squiresrb/anaconda3/lib/python3.6/site-packages\n",
      "Requirement already satisfied: chardet<3.1.0,>=3.0.2 in /Users/squiresrb/anaconda3/lib/python3.6/site-packages (from requests[security])\n",
      "Requirement already satisfied: idna<2.7,>=2.5 in /Users/squiresrb/anaconda3/lib/python3.6/site-packages (from requests[security])\n",
      "Requirement already satisfied: urllib3<1.23,>=1.21.1 in /Users/squiresrb/anaconda3/lib/python3.6/site-packages (from requests[security])\n",
      "Requirement already satisfied: certifi>=2017.4.17 in /Users/squiresrb/anaconda3/lib/python3.6/site-packages (from requests[security])\n",
      "Requirement already satisfied: pyOpenSSL>=0.14 in /Users/squiresrb/anaconda3/lib/python3.6/site-packages (from requests[security])\n",
      "Requirement already satisfied: cryptography>=1.3.4 in /Users/squiresrb/anaconda3/lib/python3.6/site-packages (from requests[security])\n",
      "Requirement already satisfied: six>=1.5.2 in /Users/squiresrb/anaconda3/lib/python3.6/site-packages (from pyOpenSSL>=0.14->requests[security])\n",
      "Requirement already satisfied: asn1crypto>=0.21.0 in /Users/squiresrb/anaconda3/lib/python3.6/site-packages (from cryptography>=1.3.4->requests[security])\n",
      "Requirement already satisfied: cffi>=1.7 in /Users/squiresrb/anaconda3/lib/python3.6/site-packages (from cryptography>=1.3.4->requests[security])\n",
      "Requirement already satisfied: pycparser in /Users/squiresrb/anaconda3/lib/python3.6/site-packages (from cffi>=1.7->cryptography>=1.3.4->requests[security])\n"
     ]
    }
   ],
   "source": [
    "# `requests security package`\n",
    "!pip install requests[security]"
   ]
  },
  {
   "cell_type": "code",
   "execution_count": 2,
   "metadata": {},
   "outputs": [
    {
     "name": "stdout",
     "output_type": "stream",
     "text": [
      "Collecting requests-cache\n",
      "  Downloading requests_cache-0.4.13-py2.py3-none-any.whl\n",
      "Requirement already satisfied: requests>=1.1.0 in /Users/squiresrb/anaconda3/lib/python3.6/site-packages (from requests-cache)\n",
      "Requirement already satisfied: chardet<3.1.0,>=3.0.2 in /Users/squiresrb/anaconda3/lib/python3.6/site-packages (from requests>=1.1.0->requests-cache)\n",
      "Requirement already satisfied: idna<2.7,>=2.5 in /Users/squiresrb/anaconda3/lib/python3.6/site-packages (from requests>=1.1.0->requests-cache)\n",
      "Requirement already satisfied: urllib3<1.23,>=1.21.1 in /Users/squiresrb/anaconda3/lib/python3.6/site-packages (from requests>=1.1.0->requests-cache)\n",
      "Requirement already satisfied: certifi>=2017.4.17 in /Users/squiresrb/anaconda3/lib/python3.6/site-packages (from requests>=1.1.0->requests-cache)\n",
      "Installing collected packages: requests-cache\n",
      "Successfully installed requests-cache-0.4.13\n"
     ]
    }
   ],
   "source": [
    "# `requests-cache`\n",
    "!pip install requests-cache"
   ]
  },
  {
   "cell_type": "code",
   "execution_count": null,
   "metadata": {},
   "outputs": [],
   "source": [
    "# `babelfish`\n",
    "!pip install babelfish"
   ]
  },
  {
   "cell_type": "markdown",
   "metadata": {},
   "source": [
    "- `guessit` - Run `pip install \"guessit<2\"` to use manual.py (requires guessit version 1, version 2 is a complete "
   ]
  },
  {
   "cell_type": "code",
   "execution_count": null,
   "metadata": {},
   "outputs": [],
   "source": [
    "# `guessit`\n",
    "# To use manual.py (requires guessit version 1, \n",
    "# version 2 is a complete rewrite, still in alpha, and not backwards compatible)\n",
    "!pip install \"guessit<2\""
   ]
  },
  {
   "cell_type": "code",
   "execution_count": null,
   "metadata": {},
   "outputs": [],
   "source": [
    "# `subliminal`\n",
    "# To enable automatically downloading subtitles\n",
    "!pip install \"subliminal<2\""
   ]
  },
  {
   "cell_type": "code",
   "execution_count": 3,
   "metadata": {},
   "outputs": [
    {
     "name": "stdout",
     "output_type": "stream",
     "text": [
      "Collecting stevedore==1.19.1\n",
      "  Downloading stevedore-1.19.1-py2.py3-none-any.whl\n",
      "Requirement already satisfied: six>=1.9.0 in /Users/squiresrb/anaconda3/lib/python3.6/site-packages (from stevedore==1.19.1)\n",
      "Collecting pbr>=1.8 (from stevedore==1.19.1)\n",
      "  Downloading pbr-3.1.1-py2.py3-none-any.whl (99kB)\n",
      "\u001b[K    100% |████████████████████████████████| 102kB 2.5MB/s a 0:00:01\n",
      "\u001b[?25hInstalling collected packages: pbr, stevedore\n",
      "Successfully installed pbr-3.1.1 stevedore-1.19.1\n"
     ]
    }
   ],
   "source": [
    "# `stevedore`\n",
    "# (requires stevedore version 1.19.1. This will be automatically installed with subliminal, so if subliminal is installed run `pip uninstall stevedore` then `pip install stevedore==1.19.1`)\n",
    "!pip install stevedore==1.19.1"
   ]
  },
  {
   "cell_type": "code",
   "execution_count": null,
   "metadata": {},
   "outputs": [],
   "source": [
    "# `dateutil`\n",
    "# This will be automatically installed with subliminal\n",
    "!pip install python-dateutil"
   ]
  },
  {
   "cell_type": "markdown",
   "metadata": {},
   "source": [
    "__If you plan on using Deluge:__"
   ]
  },
  {
   "cell_type": "code",
   "execution_count": 4,
   "metadata": {},
   "outputs": [],
   "source": [
    "# `deluge-client`\n",
    "# if you plan on using Deluge\n",
    "# !pip install deluge-client"
   ]
  },
  {
   "cell_type": "code",
   "execution_count": null,
   "metadata": {},
   "outputs": [],
   "source": [
    "# `qtfaststart`\n",
    "#  to enable moving moov atom\n",
    "!pip install qtfaststart"
   ]
  },
  {
   "cell_type": "markdown",
   "metadata": {},
   "source": [
    "## General MP4 Configuration"
   ]
  },
  {
   "cell_type": "markdown",
   "metadata": {},
   "source": [
    "---"
   ]
  },
  {
   "cell_type": "markdown",
   "metadata": {},
   "source": [
    "1. Rename autoProcess.ini.sample to autoProcess.ini"
   ]
  },
  {
   "cell_type": "markdown",
   "metadata": {},
   "source": [
    "2. Set the MP4 variables to your desired output"
   ]
  },
  {
   "cell_type": "markdown",
   "metadata": {},
   "source": [
    "    - `ffmpeg` = Full path to FFMPEG.exe\n",
    "    - `ffprobe` = Full path to FFPROBE.exe\n",
    "    - `threads` = Number of threads for FFMPEG to use, default \"auto\"\n",
    "    - `output_directory` = you may specify an alternate output directory. Leave blank to use the same directory that the source file is in. All processing will be done in this location. (Do not use for 'Automatically Add to iTunes' folder, iTunes will add prematurely, use `move_to`)\n",
    "    - `copy_to` = you may specify additional directories for the final product to be replicated to. This will be the last step performed so the file copied will be fully processed. Directories may be separated with a `|` character\n",
    "    - `move_to` = you may specify one final directory to move the completed file. (Use this option for the 'Automatically Add to iTunes' folder)\n",
    "    - `output_extension` = mp4/m4v (must be one of these 2)\n",
    "    - `output_format` = mp4/mov (must be one of these 2, mov provides better compatibility with iTunes/Apple, mp4 works better with other mobile devices)\n",
    "    - `delete_original` = True/False\n",
    "    - `relocate_moov` = True/False - relocates the MOOV atom to the beginning of the file for better streaming\n",
    "    - `ios-audio` = creates a 2nd copy of an audio stream that will be iOS compatible (AAC Stereo) if the normal output will not be. If a stereo source stream is detected with this option enabled, an AAC stereo stream will be the only one produced (essentially overriding the codec option) to avoid multiple stereo audio stream copies in different codecs. Instead of 'true' you may also set this option to a specific codec to override the default.\n",
    "    - `ios-first-track-only` = Applies the `ios-audio` option only to the first audio track encountered in the source video file. This prevents making dual audio streams for additional alternative language codecs or commentary tracks that may be present in the source file.\n",
    "    - `ios-audio-filter` = Applies FFMPEG audio filter option to ONLY the iOS audio channels created by the script. iOS audio counterpart to the `audio-filter` option below.\n",
    "    - `ios-move-last` = Rearranges the iOS audio track to be after the converted track instead of first and changes the default disposition accordingly\n",
    "    - `max-audio-channels` = Sets a maximum number of audio channels. This may provide an alternative to the iOS audio option, where instead users can simply select the desired output codec and the max number of audio channels without the creation of an additional audio track.\n",
    "    - `use-hevc-qsv-decoder` = Enable HEVC decoding using QSV on supported Intel chips. 6th Generation skylake and newer.\n",
    "    - `enable_dxva2_gpu_decode` = Enable GPU decoding by using DXVA2 - Windows only. Will automatically fallback to cpu decoding when it encounters a video that it cannot decode due to unsupported pixel/color/codec. Enabling this option will disable qsv decoding of hevc and h264.\n",
    "    - `video-codec` = set your desired video codecs. May specify multiple comma separated values (ex: h264, x264). The first value specified will be the default conversion choice when an undesired codec is encountered; any codecs specified here will be remuxed/copied rather than converted.\n",
    "    - `video-bitrate` = allows you to set a maximum video bitrate in Kbps. If the source file exceeds the video-bitrate it will be transcoded to the specified video-bitrate, even if they source file is already in the correct video codec. If the source file is in the correct video codec and does not exceed the video-bitrate setting, then it will be copied without transcoding. Leave blank to disable this setting.\n",
    "    - `video-crf` = allows you to set the CRF which will override the video bitrate setting for those that prefer CRF. Video-bitrate setting will still be used to determine a maximum bitrate that will trigger transcoding.\n",
    "    - `video-max-width` = set a max video width to downsize higher resolution video files. Aspect ratio will be preserved.\n",
    "    - `h264-max-level` = set your max h264 level. Use the decimal format. Levels lower than the specified value, if otherwise appropriate, will be copied without transcoding. Example - `4.0`.\n",
    "    - `pix_fmt` = set the video pix_fmt. If you don't know what this is just leave it blank.\n",
    "    - `audio-codec` = set your desired audio codecs. May specify multiple comma separated values (ex: ac3, aac). The first value specified will be the default conversion choice when an undesired codec is encountered; any codecs specified here will be remuxed/copied rather than converted.\n",
    "    - `audio-channel-bitrate` = set the bitrate for each audio channel. Default is 256. Setting this value to 0 will attempt to mirror the bitrate of the audio source, but this can be unreliable as bitrates vary between different codecs.\n",
    "    - `audio-language` = 3 letter language code for audio streams you wish to copy. Leave blank to copy all. Separate multiple audio streams with commas (ex: eng,spa)\n",
    "    - `audio-default-language` = If an audio stream with an unidentified/untagged language is detected, you can default that language tag to whatever this value is (ex: eng). This is useful for many single-audio releases which don't bother to tag the audio stream as anything\n",
    "    - `audio-filter` = Applies FFMPEG audio filter. Make sure you specify all parameters as you would using the `-af` option with FFMPEG command line\n",
    "    - `aac_adtstoasc` = Applies the aac_adtstoasc filter to AAC channels being copied. Useful if your source of mkv's uses raw ADTS AAC containers but can cause some playback issues with certain audio encoders\n",
    "    - `audio-copy-original` = Copies the original audio stream to the destination regardless of codec to preserve it. Will not redundantly copy the steam if its already a valid/supported codec\n",
    "    - `subtitle-codec` = set your desired subtitle codec. If you're embedding subs, `mov_text` is the only option supported. If you're creating external subtitle files, `srt` or `webvtt` are accepted.\n",
    "    - `subtitle-language` = same as audio-language but for subtitles. Set to `nil` to disable copying of subtitles.\n",
    "    - `subtitle-language-default` = same as audio-language-default but for subtitles\n",
    "    - `convert-mp4` = forces the script to reprocess and convert mp4 files as though they were mkvs. Good if you have old mp4's that you want to match your current codec configuration. *Caution:* Set `ios-audio` to `False` when reprocessing files to avoid adding multiple iOS audio streams.\n",
    "    - `fullpathguess` = True/False - When manually processing a file, enable to guess metadata using the full path versus just the file name. (Files shows placed in a 'Movies' folder will be recognized as movies, not as TV shows for example.)\n",
    "    - `tagfile` = True/False - Enable or disable tagging file with appropriate metadata after encoding.\n",
    "    - `tag-language` = en - Set your tag language for TMDB/TVDB entries metadata retrieval. Use either 2 or 3 character language codes.\n",
    "    - `download-artwork` = Poster/Thumbnail/False - Enabled downloading and embeddeding of Season or Movie posters and embeddeding of that image into the mp4 as the cover image. For TV shows you may choose between the season artwork or the episode thumbnail by selecting the corresponding option.\n",
    "    - `embed-subs` = True/False - Enabled by default. Embeds subtitles in the resulting MP4 file that are found embedded in the source file as well as external SRT/VTT files. Disabling embed-subs will cause the script to extract any subtitles that meet your language criteria into external SRT/VTT files. The script will also attempt to download SRT files if possible and this feature is enabled.\n",
    "    - `embed-only-internal-subs` = True/False - Disabled by default. Embeds only internal subtitle tracks, will skip all external subtitles. *Caution:* `embed-subs` must be enabled for this option to work.\n",
    "    - `download-subs` = True/False - When enabled the script will attempt to download subtitles of your specified languages automatically using subliminal and merge them into the final mp4 file.\n",
    "    **YOU MUST INSTALL SUBLIMINAL AND ITS DEPENDENCIES FOR THIS TO WORK.** You must run `pip install subliminal` in order for this feature to be enabled.\n",
    "    - `sub-providers` = Comma separated values for potential subtitle providers. Must specify at least 1 provider to enable `download-subs`. Providers include `podnapisi` `thesubdb` `opensubtitles` `tvsubtitles` `addic7ed`\n",
    "    - `preopts` = Additional unsupported options that go before the rest of the FFMPEG parameters, comma separated (Example `-preset, medium`)\n",
    "    - `postopts` = Additional unsupported options that go after the rest of the FFMEPG parameters, comma separated as above"
   ]
  },
  {
   "cell_type": "markdown",
   "metadata": {},
   "source": [
    "## Sickbeard Setup"
   ]
  },
  {
   "cell_type": "markdown",
   "metadata": {},
   "source": [
    "--------------"
   ]
  },
  {
   "cell_type": "markdown",
   "metadata": {},
   "source": [
    "1. Open Sickbeard's config.ini in Sick Beard installation folder\n",
    "    - Set \"extra_scripts\" value in the general section to the full path to \"python postConversion.py\" using double backslashes\n",
    "        - Example: `C:\\\\Python27\\\\python C:\\\\Scripts\\\\postConversion.py`\n",
    "        - Make sure this is done while Sick Beard is not running or it will be reverted\n",
    "2. Set the SickBeard variables in autoProcess.ini under the [Sickbeard] section:\n",
    "    - `host` - default `localhost` - Sick Beard host address\n",
    "    - `port` - default `8081` - Sick Beard port\n",
    "    - `ssl` - `0`/`1`\n",
    "    - `api_key` - Set this to your Sickbeard API key (options -> general, enable API in Sick Beard to get this key)\n",
    "    - `web_root` - Set your Sickbeard webroot\n",
    "    - `user` - Username\n",
    "    - `password` - Password"
   ]
  },
  {
   "cell_type": "markdown",
   "metadata": {},
   "source": [
    "## SickRage Setup"
   ]
  },
  {
   "cell_type": "markdown",
   "metadata": {},
   "source": [
    "--------------"
   ]
  },
  {
   "cell_type": "markdown",
   "metadata": {},
   "source": [
    "1. Open the configuration page in Sickrage and scroll down to the option labelled \"Extra Scripts\". Here enter the path to python followed by the full script path. Examples:\n",
    "    - `C:\\\\Python27\\\\python.exe C:\\\\sickbeard_mp4_automator\\\\postConversion.py`\n",
    "    - `/usr/bin/python /home/user/sickbeard_mp4_automator/postConversion.py`\n",
    "2. Set the Sickrage variables in autoProcess.ini under the [Sickrage] section:\n",
    "    - `host` - default `localhost` - Sickrage host address (localhost)\n",
    "    - `port` - default `8081` Sickrage port\n",
    "    - `ssl` - `1` if enabled, `0` if not\n",
    "    - `api_key` - Set this to your Sickrage API key\n",
    "    - `web_root` - Set your Sickrage webroot\n",
    "    - `user` - Username\n",
    "    - `password` - Password"
   ]
  },
  {
   "cell_type": "markdown",
   "metadata": {},
   "source": [
    "## Sonarr Setup"
   ]
  },
  {
   "cell_type": "markdown",
   "metadata": {},
   "source": [
    "---"
   ]
  },
  {
   "cell_type": "markdown",
   "metadata": {},
   "source": [
    "1. Set your Sonarr settings in the autoProcess.ini file\n",
    "    - `host` = Sonarr host address (localhost)    #Settings/General/Start-Up\n",
    "    - `port` = Sonarr port (8989)                 #Settings/General/Start-Up\n",
    "    - `ssl` = 1 if enabled, 0 if not              #Settings/General/Security\n",
    "    - `apikey` = Sonarr API Key (required)        #Settings/General/Security\n",
    "    - `web_root` = URL base empty or e.g. /tv     #Settings/General/Start-Up\n",
    "2. Browse to the Settings>Download Client tab and enable advanced settings [Show].\n",
    "3. Set the Drone Factory Interval' to 0 to disable it, and disable 'Completed Download Handling' in Sonarr settings. The script will trigger a specific path re-scan, allowing the mp4 conversion to be completed before Sonarr starts moving stuff around. This step is optional if you do not desire any processing between the downloading by whichever downloader you choose (NZB or Torrent), but is required if you wish to convert the file to an MP4 before it is handed back to Sonarr.\n",
    "4. Setup the postSonarr.py script via Settings > Connect > Connections > + (Add)\n",
    "    - `name` - postSonarr\n",
    "    - `On Grab` - No\n",
    "    - `On Download` - Yes\n",
    "    - `On Upgrade` - Yes\n",
    "    - `On Rename` - No\n",
    "    - Filter Series Tags - optional\n",
    "    - Windows Users\n",
    "      - `Path` - Full path to your python executable\n",
    "      - `Arguments` - Full path to `postSonarr.py`\n",
    "    - Nonwindows Users\n",
    "      - `Path` - Full path to `postSonarr.py`\n",
    "      - `Arguments` - Leave blank"
   ]
  },
  {
   "cell_type": "markdown",
   "metadata": {},
   "source": [
    "Radarr Setup"
   ]
  },
  {
   "cell_type": "markdown",
   "metadata": {},
   "source": [
    "--------------"
   ]
  },
  {
   "cell_type": "markdown",
   "metadata": {},
   "source": [
    "1. Set your Radarr settings in the autoProcess.ini file\n",
    "    - `host` = Radarr host address (localhost)    #Settings/General/Start-Up\n",
    "    - `port` = Radarr port (7878)                 #Settings/General/Start-Up\n",
    "    - `ssl` = 1 if enabled, 0 if not              #Settings/General/Security\n",
    "    - `apikey` = Radarr API Key (required)        #Settings/General/Security\n",
    "    - `web_root` = URL base empty or e.g. /tv     #Settings/General/Start-Up\n",
    "2. Browse to the Settings>Download Client tab and enable advanced settings [Show].\n",
    "3. Set the Drone Factory Interval' to 0 to disable it, and disable 'Completed Download Handling' in Radarr settings. The script will trigger a specific path re-scan, allowing the mp4 conversion to be completed before Radarr starts moving stuff around. This step is optional if you do not desire any processing between the downloading by whichever downloader you choose (NZB or Torrent), but is required if you wish to convert the file to an MP4 before it is handed back to Radarr.\n",
    "4. Setup the postRadarr.py script via Settings > Connect > Connections > + (Add)\n",
    "    - `name` - postRadarr\n",
    "    - `On Grab` - No\n",
    "    - `On Download` - Yes\n",
    "    - `On Upgrade` - Yes\n",
    "    - `On Rename` - No\n",
    "    - Filter Series Tags - optional\n",
    "    - Windows Users\n",
    "      - `Path` - Full path to your python executable\n",
    "      - `Arguments` - Full path to `postRadarr.py`\n",
    "    - Nonwindows Users\n",
    "      - `Path` - Full path to `postRadarr.py`\n",
    "      - `Arguments` - Leave blank"
   ]
  },
  {
   "cell_type": "markdown",
   "metadata": {},
   "source": [
    "---"
   ]
  },
  {
   "cell_type": "markdown",
   "metadata": {},
   "source": [
    "## CouchPotato Setup"
   ]
  },
  {
   "cell_type": "markdown",
   "metadata": {},
   "source": [
    "1. Set your CouchPotato settings to the autoProcess.ini file\n",
    "    - `host` - default `localhost` - CouchPotato host address\n",
    "    - `port` - default `5050` - CouchPotato port (5050)\n",
    "    - `ssl` - `1` if enabled, `0` if not\n",
    "    - `api_key` - CouchPotato API Key\n",
    "    - `username` - your CouchPotato username\n",
    "    - `password` - your CouchPotato password\n",
    "2. Edit `main.py` in the `setup\\PostProcess` folder\n",
    "    - Set the path variable to the script location\n",
    "    - By default it points to `C:\\\\Scripts\\\\`\n",
    "    - Use double backslahses\n",
    "2. Copy the PostProcess directory from the setup folder included with this script to the CouchPotato `custom_plugins` directory\n",
    "    - Navigate to the About page in CouchPotato, where the installation directory is displayed.\n",
    "    - Go to this folder and copy the PostProcess folder (the whole folder, not just the contents) to the CouchPotato `custom_plugins` directory\n",
    "    - Delete any `.pyc` files you find.\n",
    "    - Restart CouchPotato\n",
    "    - Verify in CouchPotato logs that PostProcess was loaded.\n",
    "3. If you're using one of the post download scripts ([SAB|NZBGet|uTorrent|deluge]PostProcess.py), disable automatic checking of the renamer folder, the script will automatically notify CouchPotato when it is complete to check for new videos to be renamed and relocated. Leaving this on may cause conflicts and CouchPotato may try to relocate/rename the file before processing is completed.\n",
    "    - Set `Run Every` to `0`\n",
    "    - Set `Force Every` to `0`\n",
    "    - If you aren't using one of these scripts and are using an unsupported downloader, you will need to have CouchPotato periodically check the folder for files, otherwise the post downloader scripts will manually trigger a renamer scan. Using manual triggers is helpful because it prevents a coincidental renamer scan during other processing events.\n",
    "4. Configure Downloaders\n",
    "    - In `Settings > Downloaders` configure your labels or categories to match what you have configured in your respective downloader."
   ]
  },
  {
   "cell_type": "markdown",
   "metadata": {},
   "source": [
    "---"
   ]
  },
  {
   "cell_type": "markdown",
   "metadata": {},
   "source": [
    "## NZBGet Setup"
   ]
  },
  {
   "cell_type": "markdown",
   "metadata": {},
   "source": [
    "1. Copy the script NZBGetPostProcess.py to NZBGet's script folder.\n",
    "    - Default location is /opt/nzbget/scripts/\n",
    "2. Start/Restart NZBGet\n",
    "3. Configure NZBGETPOSTPROCESS\n",
    "    - Access NZBGet's WebUI\n",
    "        - Default `localhost:6789`\n",
    "    - Go to `Settings`\n",
    "    - Select `NZBGETPOSTPROCESS` option at the bottom of the left hand navigation panel and configure the options\n",
    "        - `MP4_FOLDER` - default `~/sickbeard_mp4_automator/` - Location of the script. Use full path with trailing backslash.\n",
    "        - `SHOULDCONVERT` - `True`/`False` - Convert file before passing to destination\n",
    "        - `CP_CAT` - default `couchpotato` - category of downloads that will be passed to CouchPotato\n",
    "        - `SONARR_CAT` - default `sonarr` - category of downloads that will be passed to Sonarr\n",
    "        - `SICKBEARD_CAT` - default `sickbeard` - category of downloads that will be passed to Sickbeard\n",
    "        - `SICKRAGE_CAT` - default `sickrage` - category of downloads that will be passed to Sickrage\n",
    "        - `BYPASS_CAT` - default `bypass` - category of downloads that may be converted but won't be passed on further\n",
    "    - Save changes\n",
    "    - Reload NZBGet\n",
    "4. When assigning categories in NZBGet and your chosen media manager, ensure they match the label settings specified here so that file will be passed back to the appropriate location.\n",
    "    - In the relevant category set `PostScript` to NZBGetPostProcess.py to ensure mp4_automator is called."
   ]
  },
  {
   "cell_type": "markdown",
   "metadata": {},
   "source": [
    "SABNZBD Setup"
   ]
  },
  {
   "cell_type": "markdown",
   "metadata": {},
   "source": [
    "--------------"
   ]
  },
  {
   "cell_type": "markdown",
   "metadata": {},
   "source": [
    "1. Configure `SABNZBD` section of `autoProcess.ini`\n",
    "    - `convert` - `True`/`False` - Allows for conversion of files before passing back to the respective download manager.\n",
    "    - `sickbeard-category` - default `sickbeard` -  category that will be sent to Sickbeard for additional processing when download is complete\n",
    "    - `sickrage-category` - default `sickrage` - category that will be sent to Sickrage for additional processing when download is complete\n",
    "    - `couchpotato-category` - default `couchpotato` - category that will be sent to Couch Potato for additional processing when download is complete\n",
    "    - `sonarr-category` - default `sonarr` - category that will be sent to Sonarr for additional processing when download is complete\n",
    "    - `byapss-category` - default `bypass` - category that should be assigned to torrents that will not be sent anywhere when download is complete. Useful if you wish to convert files without additional processing\n",
    "2. Point SABNZBD's script directory to the root directory where you have extract the script.\n",
    "3. Configure categories. Categories will determine where the download is sent when it is finished\n",
    "    - `Settings > Categories`\n",
    "    - Configure `name` to match the settings from the `SABNZBD` section of `autoProcess.ini`\n",
    "        - Default `sickbeard`\n",
    "        - Default `sickrage`\n",
    "        - Default `couchpotato`\n",
    "        - Default `sonarr`\n",
    "        - Default `bypass`\n",
    "    - Select the SABPostProcess.py script\n",
    "    - Save EACH category\n",
    "4. Verify that whatever media manager you are using is assigning the label to match the label settings specified here so that file will be passed back to the appropriate location"
   ]
  },
  {
   "cell_type": "markdown",
   "metadata": {},
   "source": [
    "## uTorrent Setup"
   ]
  },
  {
   "cell_type": "markdown",
   "metadata": {},
   "source": [
    "--------------"
   ]
  },
  {
   "cell_type": "markdown",
   "metadata": {},
   "source": [
    "1. Verify that you have installed the **Requests library**\n",
    "    - `pip install requests`\n",
    "2. Launch uTorrent\n",
    "3. Set `Run Program` option\n",
    "    - Go to `Options > Preferences > Advanced > Run Program`\n",
    "    - Point to `uTorrentPostProcess.py` with command line parameters: `%L %T %D %K %F %I %N` in that exact order.\n",
    "4. Set your uTorrent settings in autoProcess.ini\n",
    "    - `convert` - `True`/`False`. Allows for conversion of files before passing back to the respective download manager.\n",
    "    - `sickbeard-label` - default `sickbeard` - uTorrent label that should be assigned to torrents that will be sent to Sickbeard for additional processing when download is complete.\n",
    "    - `sickrage-label` - default `sickrage` - uTorrent label that should be assigned to torrents that will be sent to Sickrage for additional processing when download is complete.\n",
    "    - `couchpotato-label` - default `couchpotato` - uTorrent label that should be assigned to torrents that will be sent to Couch Potato for additional processing when download is complete.\n",
    "    - `sonarr-label` - default `sonarr` - uTorrent label that should be assigned to torrents that will be sent to Sonarr for additional processing when download is complete.\n",
    "    - `bypass-label` - default `bypass` - label that should be assigned to torrents that will not be sent anywhere when download is complete. Useful if you wish to convert files without additional processing.\n",
    "    - `webui` - `True`/`False`. If `True` the script can change the state of the torrent.\n",
    "    - `action_before` - stop/pause or any other action from http://help.utorrent.com/customer/portal/articles/1573952-actions---webapi\n",
    "    - `action_after` - start/stop/pause/unpause/remove/removedata or any other action from http://help.utorrent.com/customer/portal/articles/1573952-actions---webapi\n",
    "    - `hostname` - your uTorrent Web UI URL, eg `http://localhost:8080/` including the trailing slash.\n",
    "    - `username` - your uTorrent Web UI username.\n",
    "    - `password` - your uTorrent Web UI password.\n",
    "5. Verify that whatever media manager you are using is assigning the label to match the label settings specified here so that file will be passed back to the appropriate location"
   ]
  },
  {
   "cell_type": "markdown",
   "metadata": {},
   "source": [
    "### Deluge Daemon"
   ]
  },
  {
   "cell_type": "markdown",
   "metadata": {},
   "source": [
    "--------------"
   ]
  },
  {
   "cell_type": "markdown",
   "metadata": {},
   "source": [
    "Install the Deluge client:"
   ]
  },
  {
   "cell_type": "code",
   "execution_count": null,
   "metadata": {},
   "outputs": [],
   "source": [
    "# `deluge-client`\n",
    "# if you plan on using Deluge\n",
    "!pip install deluge-client"
   ]
  },
  {
   "cell_type": "markdown",
   "metadata": {},
   "source": [
    "1. Verify that you have installed the **Gevent library**\n",
    "    - `pip install gevent`\n",
    "    - Windows users will need to also install the Microsoft Visual C++ Compiler for Python 2.7 for gevent to work. http://www.microsoft.com/en-us/download/details.aspx?id=44266\n",
    "2. Create username and password for deluge daemon\n",
    "    - Navigate to your deluge configuration folder\n",
    "        - `%appdata%\\Roaming\\Deluge` in Windows\n",
    "        - `/var/lib/deluge/.config/deluge/` in Linux\n",
    "    - Open the `auth` file\n",
    "    - Add a username and password in the format `<username>:<password>:<level>`. Replace <username> and <password> with your choice and level with your desired authentication level. Default level is `10`. Save auth.\n",
    "        - Ex: `sampleuser:samplepass:10`\n",
    "3. Start/Restart deluged\n",
    "    - *deluged* not <i>deluge</i>\n",
    "4. Access the WebUI\n",
    "    - Default port is `8112`\n",
    "    - Default password is `deluge`\n",
    "5. Enabled the `Execute` plugin\n",
    "    - Add event for `Torrent Complete`\n",
    "    - Set path to the full path to `delugePostProcess.py` or `delugePostProcess.bat` for Windows users.\n",
    "6. Configure the deluge options in `autoProcess.ini`\n",
    "    - `sickbeard-label` - Deluge label that should be assigned to torrents that will be sent to Sickbeard for additional processing when download is complete.\n",
    "    - `sickrage-label - Deluge label that should be assigned to torrents that will be sent to Sickrage for additional processing when download is complete.\n",
    "    - `couchpotato-label` - Deluge label that should be assigned to torrents that will be sent to Couch Potato for additional processing when download is complete.\n",
    "    - `sonarr-label` - Deluge label that should be assigned to torrents that will be sent to Sonarr for additional processing when download is complete.\n",
    "    - `bypass-label` - label that should be assigned to torrents that will not be sent anywhere when download is complete. Useful if you wish to convert files without additional processing.\n",
    "    - `convert` - `True`/`False`. Allows for conversion of files before passing back to the respective download manager.\n",
    "    - `host` - your Deluge hostname. Default is `localhost`\n",
    "    - `port` - Deluge daemon port. Default is `58846`. Do not confuse this with your WebUI port, which is different.\n",
    "    - `username` - your Deluge username that you previously added to the `auth` file.\n",
    "    - `password` - your Deluge password that you previously added to the `auth` file.\n",
    "7. Verify that whatever downloader you are using is assigning the label to match the label settings specified here so that file will be passed back to the appropriate location"
   ]
  },
  {
   "cell_type": "markdown",
   "metadata": {},
   "source": [
    "Plex Notification"
   ]
  },
  {
   "cell_type": "markdown",
   "metadata": {},
   "source": [
    "--------------"
   ]
  },
  {
   "cell_type": "markdown",
   "metadata": {},
   "source": [
    "Send a Plex notification as the final step when all processing is completed. This feature prevents a file from being flagged as \"in use\" by Plex before processing has completed.\n",
    "1. Disable automatic refreshing on your Plex server\n",
    "    - `Settings > Server > Library` and disable `Update my library automatically` and `Update my library periodically`.\n",
    "2. Configure autoProcess.ini\n",
    "    - `refresh` - `True`/`False` - Enable or disable the feature\n",
    "    - `host` - Plex hostname. Default `localhost`\n",
    "    - `port` - Plex port. Default `32400`\n",
    "    - `token` - Plex Home Token"
   ]
  },
  {
   "cell_type": "markdown",
   "metadata": {},
   "source": [
    "Post Process Scripts"
   ]
  },
  {
   "cell_type": "markdown",
   "metadata": {},
   "source": [
    "--------------"
   ]
  },
  {
   "cell_type": "markdown",
   "metadata": {},
   "source": [
    "The script suite supports the ability to write your own post processing scripts that will be executed when all the final processing has been completed. All scripts in the `./post_process` directory will be executed if the `post-process` option is set to `True` in `autoProcess.ini`. Scripts within the `./post_process/resources` directory are protected from execution if additional script resources are required.\n",
    "\n",
    "The following environmental variables are available for usage:\n",
    "- `MH_FILES` - JSON Array of all files created by the post processing script. The first file in the array is the primary file, and any additional files are copies created by the copy-to option\n",
    "- `MH_TVDBID` - TVDB ID if file processed was a TV show and this information is available\n",
    "- `MH_SEASON` - Season number if file processed was a TV show\n",
    "- `MH_EPISODE` - Episode number if files processed was a TV show\n",
    "- `MH_IMDBID` - IMDB ID if file processed was a movie\n",
    "A sample script as well as an OS X 'Add to iTunes' script (`iTunes.py`) have been provided.\n",
    "*Special thanks to jzucker2 for providing much of the initial code for this feature*"
   ]
  },
  {
   "cell_type": "markdown",
   "metadata": {},
   "source": [
    "Manual Script Usage"
   ]
  },
  {
   "cell_type": "markdown",
   "metadata": {},
   "source": [
    "--------------"
   ]
  },
  {
   "cell_type": "markdown",
   "metadata": {},
   "source": [
    "To run the script manually, simply run the manual.py file and follow the prompts it presents.\n",
    "If you wish to run it via the command line (good for batch operations) follow this format:\n",
    "\n",
    "```\n",
    "Help output\n",
    "manual.py -h\n",
    "usage: manual.py [-h] [-i INPUT] [-a] [-tv TVDBID] [-s SEASON] [-e EPISODE]\n",
    "                 [-imdb IMDBID] [-tmdb TMDBID] [-nm] [-nc] [-nd]\n",
    "\n",
    "Manual conversion and tagging script for sickbeard_mp4_automator\n",
    "\n",
    "optional arguments:\n",
    "  -h, --help            show this help message and exit\n",
    "  -i INPUT, --input INPUT\n",
    "                        The source that will be converted. May be a file or a\n",
    "                        directory\n",
    "  --config              Specify an alternate configuration file location\n",
    "  -a, --auto            Enable auto mode, the script will not prompt you for\n",
    "                        any further input, good for batch files. It will guess\n",
    "                        the metadata using guessit\n",
    "  -tv TVDBID, --tvdbid TVDBID\n",
    "                        Set the TVDB ID for a tv show\n",
    "  -s SEASON, --season SEASON\n",
    "                        Specifiy the season number\n",
    "  -e EPISODE, --episode EPISODE\n",
    "                        Specify the episode number\n",
    "  -imdb IMDBID, --imdbid IMDBID\n",
    "                        Specify the IMDB ID for a movie\n",
    "  -tmdb TMDBID, --tmdbid TMDBID\n",
    "                        Specify theMovieDB ID for a movie\n",
    "  -nm, --nomove         Overrides and disables the custom moving of file\n",
    "                        options that come from output_dir and move-to\n",
    "  -m, --moveto          Override move-to value setting in autoProcess.ini\n",
    "                        changing the final destination of the file\n",
    "  -nc, --nocopy         Overrides and disables the custom copying of file\n",
    "                        options that come from output_dir and move-to\n",
    "  -nt, --notag          Overrides and disables tagging when using the\n",
    "                        automated option\n",
    "  -nd, --nodelete       Overrides and disables deleting of original files\n",
    "  -pr, --preserveRelative\n",
    "                        Preserves relative directories when processing\n",
    "                        multiple files using the copy-to or move-to\n",
    "                        functionality\n",
    "  -cmp4, --convertmp4   Overrides convert-mp4 setting in autoProcess.ini\n",
    "                        enabling the reprocessing of mp4 files\n",
    "```\n",
    "\n",
    "Examples\n",
    "```\n",
    "Movies (using IMDB ID):\n",
    "manual.py -i mp4path -imdb imdbid\n",
    "Example: manual.py -i \"C:\\The Matrix.mkv\" -imdb tt0133093\n",
    "\n",
    "Movies (using TMDB ID)\n",
    "manual.py -i mp4path -tmdb tmdbid\n",
    "Example: manual.py -i \"C:\\The Matrix.mkv\" -tmdb 603\n",
    "\n",
    "TV\n",
    "manual.py -i mp4path -tv tvdbid -s season -e episode\n",
    "Example: manual.py -i \"C:\\Futurama S03E10.mkv\" -tv 73871‎ -s 3 -e 10\n",
    "\n",
    "Auto Single File (will gather movie ID or TV show ID / season / spisode from the file name if possible)\n",
    "manual.py -i mp4path -silent\n",
    "Example: manual.py -i \"C:\\Futurama S03E10.mkv\" -a\n",
    "\n",
    "Directory (you will be prompted at each file for the type of file and ID)\n",
    "manual.py -i directory_path\n",
    "Example: manual.py -i C:\\Movies\n",
    "\n",
    "Automated Directory (The script will attempt to figure out appropriate tagging based on file name)\n",
    "manual.py -i directory_path -a\n",
    "Example: manual.py -i C:\\Movies -a\n",
    "\n",
    "Process a directory but manually specific TVDB ID (Good for shows that don't correctly match using the guess)\n",
    "manual.py -i directory -a -tv tvdbid\n",
    "Example: manual.py -i C:\\TV\\Futurama\\ -a -tv 73871\n",
    "```\n",
    "You may also simply run `manual.py -i 'C:\\The Matrix.mkv` and the script will prompt you for the missing information or attempt to guess based on the file name.\n",
    "You may run the script with a `--auto` or `-a` switch, which will let the script guess the tagging information based on the file name, avoiding any need for user input. This is the most ideal option for large batch file operations.\n",
    "The script may also be pointed to a directory, where it will process all files in the directory. If you run the script without the `-silent` switch, you will be prompted for each file with options on how to tag, to convert without tagging, or skip."
   ]
  },
  {
   "cell_type": "markdown",
   "metadata": {},
   "source": [
    "### External Cover Art"
   ]
  },
  {
   "cell_type": "markdown",
   "metadata": {},
   "source": [
    "--------------"
   ]
  },
  {
   "cell_type": "markdown",
   "metadata": {},
   "source": [
    "To use your own cover art instead of what the script pulls from TMDB or TVDB, simply place an image file named cover.jpg or cover.png in the same directory as the input video before processing and it will be used."
   ]
  },
  {
   "cell_type": "markdown",
   "metadata": {},
   "source": [
    "### Import External Subtitles"
   ]
  },
  {
   "cell_type": "markdown",
   "metadata": {},
   "source": [
    "--------------"
   ]
  },
  {
   "cell_type": "markdown",
   "metadata": {},
   "source": [
    "To import external subtitles, place the .srt file in the same directory as the file to be processed. The srt must have the same name as the input video file, as well as the 3 character language code for which the subtitle is. Subtitle importing obeys the langauge rules set in autoProcess.ini, so languages that aren't whitelisted will be ignored.\n",
    "\n",
    "Naming example:\n",
    "```\n",
    "input mkv - The.Matrix.1999.mkv\n",
    "subtitle srt - The.Matrix.1999.eng.srt\n",
    "```"
   ]
  },
  {
   "cell_type": "markdown",
   "metadata": {},
   "source": [
    "## Common Errors"
   ]
  },
  {
   "cell_type": "markdown",
   "metadata": {},
   "source": [
    "--------------"
   ]
  },
  {
   "cell_type": "markdown",
   "metadata": {},
   "source": [
    "- `ImportError: No module named pkg_resources` - you need to install setuptools for python. See here: https://pypi.python.org/pypi/setuptools#installation-instructions\n",
    "- Problems moving from downloader back to manager - you most likely haven't set up your categories correctly. The category options designated by SB/SR/CP/Sonarr need to match the ones set in your downloader either in the plugin options or in autoProcess.ini, and these categories ALL need to execute either SABPostProcess.py for SAB or NZBGetPostProcess.py for NZBGet. Make sure they match."
   ]
  },
  {
   "cell_type": "markdown",
   "metadata": {},
   "source": []
  },
  {
   "cell_type": "markdown",
   "metadata": {},
   "source": [
    "### Credits"
   ]
  },
  {
   "cell_type": "markdown",
   "metadata": {},
   "source": [
    "--------------"
   ]
  },
  {
   "cell_type": "markdown",
   "metadata": {},
   "source": [
    "This project makes use of the following projects:\n",
    "- http://www.sickbeard.com/\n",
    "- http://couchpota.to/\n",
    "- http://sabnzbd.org/\n",
    "- http://github.com/senko/python-video-converter\n",
    "- http://github.com/dbr/tvdb_api\n",
    "- http://code.google.com/p/mutagen/\n",
    "- http://imdbpy.sourceforge.net/\n",
    "- http://github.com/danielgtaylor/qtfaststart\n",
    "- http://github.com/clinton-hall/nzbToMedia\n",
    "- http://github.com/wackou/guessit\n",
    "- http://github.com/Diaoul/subliminal\n",
    "\n",
    "Enjoy"
   ]
  },
  {
   "cell_type": "code",
   "execution_count": null,
   "metadata": {},
   "outputs": [],
   "source": []
  }
 ],
 "metadata": {
  "kernelspec": {
   "display_name": "Python 3",
   "language": "python",
   "name": "python3"
  },
  "language_info": {
   "codemirror_mode": {
    "name": "ipython",
    "version": 3
   },
   "file_extension": ".py",
   "mimetype": "text/x-python",
   "name": "python",
   "nbconvert_exporter": "python",
   "pygments_lexer": "ipython3",
   "version": "3.6.4"
  }
 },
 "nbformat": 4,
 "nbformat_minor": 2
}
